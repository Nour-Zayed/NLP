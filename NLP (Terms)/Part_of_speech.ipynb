{
  "nbformat": 4,
  "nbformat_minor": 0,
  "metadata": {
    "colab": {
      "provenance": []
    },
    "kernelspec": {
      "name": "python3",
      "display_name": "Python 3"
    },
    "language_info": {
      "name": "python"
    }
  },
  "cells": [
    {
      "cell_type": "code",
      "execution_count": null,
      "metadata": {
        "id": "wNz4rh4vL4VR"
      },
      "outputs": [],
      "source": []
    },
    {
      "cell_type": "markdown",
      "source": [
        "# ## **Part**-of-speech (POS)\n",
        "tagging is a fundamental task in natural language processing (NLP) that involves identifying the grammatical category of each word in a given text. There are several reasons why POS tagging is important in NLP:\n",
        "\n",
        "Parsing: POS tagging is a crucial step in syntactic parsing, which involves analyzing the structure of a sentence to determine its meaning. By identifying the part of speech of each word in a sentence, we can construct a parse tree that represents the syntactic structure of the sentence.\n",
        "\n",
        "Information retrieval: POS tagging can be used to improve the accuracy of information retrieval systems. By identifying the part of speech of a query term, we can narrow down the search space and retrieve only the relevant documents.\n",
        "\n",
        "Machine translation: POS tagging can be used to improve the accuracy of machine translation systems. By identifying the part of speech of each word in a sentence, we can generate more accurate translations that preserve the grammatical structure of the original sentence.\n",
        "\n",
        "Sentiment analysis: POS tagging can be used to improve the accuracy of sentiment analysis, which involves identifying the emotional tone of a piece of text. By identifying the part of speech of each word, we can identify words that are likely to carry sentiment and use them to predict the overall sentiment of the text.\n",
        "\n",
        "Overall, POS tagging is an essential task in NLP that enables a wide range of applications, including parsing, information retrieval, machine translation, and sentiment analysis."
      ],
      "metadata": {
        "id": "Vhy0LiYXMET9"
      }
    },
    {
      "cell_type": "code",
      "source": [
        "import spacy\n",
        "#!python -m spacy download en_core_web_sm"
      ],
      "metadata": {
        "id": "QZNTrKTwMJvI"
      },
      "execution_count": 1,
      "outputs": []
    },
    {
      "cell_type": "code",
      "source": [
        "nlp = spacy.load(\"en_core_web_sm\")\n",
        "doc = nlp(\"Elon flew to mars yesterday. He carried biryani masala with him\")\n",
        "\n",
        "for token in doc:\n",
        "    print(token,\" | \", token.pos_, \" | \", spacy.explain(token.pos_))"
      ],
      "metadata": {
        "colab": {
          "base_uri": "https://localhost:8080/"
        },
        "id": "9YnzkMXpMf-9",
        "outputId": "2f51bd83-c038-4d00-ba0c-ab593256500e"
      },
      "execution_count": 2,
      "outputs": [
        {
          "output_type": "stream",
          "name": "stdout",
          "text": [
            "Elon  |  PROPN  |  proper noun\n",
            "flew  |  VERB  |  verb\n",
            "to  |  ADP  |  adposition\n",
            "mars  |  NOUN  |  noun\n",
            "yesterday  |  NOUN  |  noun\n",
            ".  |  PUNCT  |  punctuation\n",
            "He  |  PRON  |  pronoun\n",
            "carried  |  VERB  |  verb\n",
            "biryani  |  ADJ  |  adjective\n",
            "masala  |  NOUN  |  noun\n",
            "with  |  ADP  |  adposition\n",
            "him  |  PRON  |  pronoun\n"
          ]
        }
      ]
    },
    {
      "cell_type": "code",
      "source": [
        "doc = nlp(\"Wow! Dr. Strange made 265 million $ on the very first day\")\n",
        "\n",
        "for token in doc:\n",
        "    print(token,\" | \", token.pos_, \" | \", spacy.explain(token.pos_))"
      ],
      "metadata": {
        "colab": {
          "base_uri": "https://localhost:8080/"
        },
        "id": "jbjz6fXlMseq",
        "outputId": "8fc92188-d8ae-49d2-d6a7-9d3694a1ffe7"
      },
      "execution_count": 3,
      "outputs": [
        {
          "output_type": "stream",
          "name": "stdout",
          "text": [
            "Wow  |  INTJ  |  interjection\n",
            "!  |  PUNCT  |  punctuation\n",
            "Dr.  |  PROPN  |  proper noun\n",
            "Strange  |  PROPN  |  proper noun\n",
            "made  |  VERB  |  verb\n",
            "265  |  NUM  |  numeral\n",
            "million  |  NUM  |  numeral\n",
            "$  |  NUM  |  numeral\n",
            "on  |  ADP  |  adposition\n",
            "the  |  DET  |  determiner\n",
            "very  |  ADV  |  adverb\n",
            "first  |  ADJ  |  adjective\n",
            "day  |  NOUN  |  noun\n"
          ]
        }
      ]
    },
    {
      "cell_type": "code",
      "source": [
        "doc = nlp(\"Wow! Dr. Strange made 265 million $ on the very first day\")\n",
        "\n",
        "for token in doc:\n",
        "    print(token,\" | \", token.pos_, \" | \", spacy.explain(token.pos_), \" | \", token.tag_, \" | \", spacy.explain(token.tag_))"
      ],
      "metadata": {
        "colab": {
          "base_uri": "https://localhost:8080/"
        },
        "id": "85je5GCoM0IT",
        "outputId": "8808fd8c-144a-44ca-f1cc-8bc30ffc8722"
      },
      "execution_count": 4,
      "outputs": [
        {
          "output_type": "stream",
          "name": "stdout",
          "text": [
            "Wow  |  INTJ  |  interjection  |  UH  |  interjection\n",
            "!  |  PUNCT  |  punctuation  |  .  |  punctuation mark, sentence closer\n",
            "Dr.  |  PROPN  |  proper noun  |  NNP  |  noun, proper singular\n",
            "Strange  |  PROPN  |  proper noun  |  NNP  |  noun, proper singular\n",
            "made  |  VERB  |  verb  |  VBD  |  verb, past tense\n",
            "265  |  NUM  |  numeral  |  CD  |  cardinal number\n",
            "million  |  NUM  |  numeral  |  CD  |  cardinal number\n",
            "$  |  NUM  |  numeral  |  CD  |  cardinal number\n",
            "on  |  ADP  |  adposition  |  IN  |  conjunction, subordinating or preposition\n",
            "the  |  DET  |  determiner  |  DT  |  determiner\n",
            "very  |  ADV  |  adverb  |  RB  |  adverb\n",
            "first  |  ADJ  |  adjective  |  JJ  |  adjective (English), other noun-modifier (Chinese)\n",
            "day  |  NOUN  |  noun  |  NN  |  noun, singular or mass\n"
          ]
        }
      ]
    },
    {
      "cell_type": "markdown",
      "source": [
        "## In below sentences Spacy figures out the past vs present tense for quit\n"
      ],
      "metadata": {
        "id": "9V58a4smM3Xy"
      }
    },
    {
      "cell_type": "code",
      "source": [
        "doc = nlp(\"He quits the job\")\n",
        "\n",
        "print(doc[1].text, \"|\", doc[1].tag_, \"|\", spacy.explain(doc[1].tag_))"
      ],
      "metadata": {
        "colab": {
          "base_uri": "https://localhost:8080/"
        },
        "id": "eEAfeueRM6py",
        "outputId": "95cfcb41-22ea-45a9-9ce9-0386acab0d92"
      },
      "execution_count": 5,
      "outputs": [
        {
          "output_type": "stream",
          "name": "stdout",
          "text": [
            "quits | VBZ | verb, 3rd person singular present\n"
          ]
        }
      ]
    },
    {
      "cell_type": "code",
      "source": [
        "doc = nlp(\"he quit the job\")\n",
        "\n",
        "print(doc[1].text, \"|\", doc[1].tag_, \"|\", spacy.explain(doc[1].tag_))"
      ],
      "metadata": {
        "colab": {
          "base_uri": "https://localhost:8080/"
        },
        "id": "7PmrmniIM_SK",
        "outputId": "29e92040-6def-4836-ebaa-87e42b961763"
      },
      "execution_count": 6,
      "outputs": [
        {
          "output_type": "stream",
          "name": "stdout",
          "text": [
            "quit | VBD | verb, past tense\n"
          ]
        }
      ]
    },
    {
      "cell_type": "markdown",
      "source": [
        "## Removing all SPACE, PUNCT and X token from text\n"
      ],
      "metadata": {
        "id": "3jO-x3w1NDmt"
      }
    },
    {
      "cell_type": "code",
      "source": [
        "earnings_text=\"\"\"Microsoft Corp. today announced the following results for the quarter ended December 31, 2021, as compared to the corresponding period of last fiscal year:\n",
        "\n",
        "·         Revenue was $51.7 billion and increased 20%\n",
        "·         Operating income was $22.2 billion and increased 24%\n",
        "·         Net income was $18.8 billion and increased 21%\n",
        "·         Diluted earnings per share was $2.48 and increased 22%\n",
        "“Digital technology etc. is the most malleable resource at the world’s disposal to overcome constraints and reimagine everyday work and life,” said Satya Nadella, chairman and chief executive officer of Microsoft. “As tech as a percentage of global GDP continues to increase, we are innovating and investing across diverse and growing markets, with a common underlying technology stack and an operating model that reinforces a common strategy, culture, and sense of purpose.”\n",
        "“Solid commercial execution, represented by strong bookings growth driven by long-term Azure commitments, increased Microsoft Cloud revenue to $22.1 billion, up 32% year over year” said Amy Hood, executive vice president and chief financial officer of Microsoft.\"\"\"\n",
        "\n",
        "doc = nlp(earnings_text)\n",
        "\n",
        "for token in doc:\n",
        "    print(token,\" | \", token.pos_, \" | \", spacy.explain(token.pos_), \" | \", token.tag_, \" | \", spacy.explain(token.tag_))"
      ],
      "metadata": {
        "colab": {
          "base_uri": "https://localhost:8080/"
        },
        "id": "B254HehxNE-5",
        "outputId": "d184a06b-ccd6-4fc9-f1ba-0c7f25a5fe0c"
      },
      "execution_count": 7,
      "outputs": [
        {
          "output_type": "stream",
          "name": "stdout",
          "text": [
            "Microsoft  |  PROPN  |  proper noun  |  NNP  |  noun, proper singular\n",
            "Corp.  |  PROPN  |  proper noun  |  NNP  |  noun, proper singular\n",
            "today  |  NOUN  |  noun  |  NN  |  noun, singular or mass\n",
            "announced  |  VERB  |  verb  |  VBD  |  verb, past tense\n",
            "the  |  DET  |  determiner  |  DT  |  determiner\n",
            "following  |  VERB  |  verb  |  VBG  |  verb, gerund or present participle\n",
            "results  |  NOUN  |  noun  |  NNS  |  noun, plural\n",
            "for  |  ADP  |  adposition  |  IN  |  conjunction, subordinating or preposition\n",
            "the  |  DET  |  determiner  |  DT  |  determiner\n",
            "quarter  |  NOUN  |  noun  |  NN  |  noun, singular or mass\n",
            "ended  |  VERB  |  verb  |  VBD  |  verb, past tense\n",
            "December  |  PROPN  |  proper noun  |  NNP  |  noun, proper singular\n",
            "31  |  NUM  |  numeral  |  CD  |  cardinal number\n",
            ",  |  PUNCT  |  punctuation  |  ,  |  punctuation mark, comma\n",
            "2021  |  NUM  |  numeral  |  CD  |  cardinal number\n",
            ",  |  PUNCT  |  punctuation  |  ,  |  punctuation mark, comma\n",
            "as  |  SCONJ  |  subordinating conjunction  |  IN  |  conjunction, subordinating or preposition\n",
            "compared  |  VERB  |  verb  |  VBN  |  verb, past participle\n",
            "to  |  ADP  |  adposition  |  IN  |  conjunction, subordinating or preposition\n",
            "the  |  DET  |  determiner  |  DT  |  determiner\n",
            "corresponding  |  ADJ  |  adjective  |  JJ  |  adjective (English), other noun-modifier (Chinese)\n",
            "period  |  NOUN  |  noun  |  NN  |  noun, singular or mass\n",
            "of  |  ADP  |  adposition  |  IN  |  conjunction, subordinating or preposition\n",
            "last  |  ADJ  |  adjective  |  JJ  |  adjective (English), other noun-modifier (Chinese)\n",
            "fiscal  |  ADJ  |  adjective  |  JJ  |  adjective (English), other noun-modifier (Chinese)\n",
            "year  |  NOUN  |  noun  |  NN  |  noun, singular or mass\n",
            ":  |  PUNCT  |  punctuation  |  :  |  punctuation mark, colon or ellipsis\n",
            "\n",
            "\n",
            "  |  SPACE  |  space  |  _SP  |  whitespace\n",
            "·  |  PUNCT  |  punctuation  |  NFP  |  superfluous punctuation\n",
            "          |  SPACE  |  space  |  _SP  |  whitespace\n",
            "Revenue  |  NOUN  |  noun  |  NN  |  noun, singular or mass\n",
            "was  |  AUX  |  auxiliary  |  VBD  |  verb, past tense\n",
            "$  |  SYM  |  symbol  |  $  |  symbol, currency\n",
            "51.7  |  NUM  |  numeral  |  CD  |  cardinal number\n",
            "billion  |  NUM  |  numeral  |  CD  |  cardinal number\n",
            "and  |  CCONJ  |  coordinating conjunction  |  CC  |  conjunction, coordinating\n",
            "increased  |  VERB  |  verb  |  VBD  |  verb, past tense\n",
            "20  |  NUM  |  numeral  |  CD  |  cardinal number\n",
            "%  |  NOUN  |  noun  |  NN  |  noun, singular or mass\n",
            "\n",
            "  |  SPACE  |  space  |  _SP  |  whitespace\n",
            "·  |  PUNCT  |  punctuation  |  NFP  |  superfluous punctuation\n",
            "          |  SPACE  |  space  |  _SP  |  whitespace\n",
            "Operating  |  VERB  |  verb  |  VBG  |  verb, gerund or present participle\n",
            "income  |  NOUN  |  noun  |  NN  |  noun, singular or mass\n",
            "was  |  AUX  |  auxiliary  |  VBD  |  verb, past tense\n",
            "$  |  SYM  |  symbol  |  $  |  symbol, currency\n",
            "22.2  |  NUM  |  numeral  |  CD  |  cardinal number\n",
            "billion  |  NUM  |  numeral  |  CD  |  cardinal number\n",
            "and  |  CCONJ  |  coordinating conjunction  |  CC  |  conjunction, coordinating\n",
            "increased  |  VERB  |  verb  |  VBD  |  verb, past tense\n",
            "24  |  NUM  |  numeral  |  CD  |  cardinal number\n",
            "%  |  NOUN  |  noun  |  NN  |  noun, singular or mass\n",
            "\n",
            "  |  SPACE  |  space  |  _SP  |  whitespace\n",
            "·  |  PUNCT  |  punctuation  |  NFP  |  superfluous punctuation\n",
            "          |  SPACE  |  space  |  _SP  |  whitespace\n",
            "Net  |  ADJ  |  adjective  |  JJ  |  adjective (English), other noun-modifier (Chinese)\n",
            "income  |  NOUN  |  noun  |  NN  |  noun, singular or mass\n",
            "was  |  AUX  |  auxiliary  |  VBD  |  verb, past tense\n",
            "$  |  SYM  |  symbol  |  $  |  symbol, currency\n",
            "18.8  |  NUM  |  numeral  |  CD  |  cardinal number\n",
            "billion  |  NUM  |  numeral  |  CD  |  cardinal number\n",
            "and  |  CCONJ  |  coordinating conjunction  |  CC  |  conjunction, coordinating\n",
            "increased  |  VERB  |  verb  |  VBD  |  verb, past tense\n",
            "21  |  NUM  |  numeral  |  CD  |  cardinal number\n",
            "%  |  NOUN  |  noun  |  NN  |  noun, singular or mass\n",
            "\n",
            "  |  SPACE  |  space  |  _SP  |  whitespace\n",
            "·  |  PUNCT  |  punctuation  |  NFP  |  superfluous punctuation\n",
            "          |  SPACE  |  space  |  _SP  |  whitespace\n",
            "Diluted  |  VERB  |  verb  |  VBN  |  verb, past participle\n",
            "earnings  |  NOUN  |  noun  |  NNS  |  noun, plural\n",
            "per  |  ADP  |  adposition  |  IN  |  conjunction, subordinating or preposition\n",
            "share  |  NOUN  |  noun  |  NN  |  noun, singular or mass\n",
            "was  |  AUX  |  auxiliary  |  VBD  |  verb, past tense\n",
            "$  |  SYM  |  symbol  |  $  |  symbol, currency\n",
            "2.48  |  NUM  |  numeral  |  CD  |  cardinal number\n",
            "and  |  CCONJ  |  coordinating conjunction  |  CC  |  conjunction, coordinating\n",
            "increased  |  VERB  |  verb  |  VBD  |  verb, past tense\n",
            "22  |  NUM  |  numeral  |  CD  |  cardinal number\n",
            "%  |  NOUN  |  noun  |  NN  |  noun, singular or mass\n",
            "\n",
            "  |  SPACE  |  space  |  _SP  |  whitespace\n",
            "“  |  PUNCT  |  punctuation  |  ``  |  opening quotation mark\n",
            "Digital  |  PROPN  |  proper noun  |  NNP  |  noun, proper singular\n",
            "technology  |  NOUN  |  noun  |  NN  |  noun, singular or mass\n",
            "etc  |  X  |  other  |  FW  |  foreign word\n",
            ".  |  X  |  other  |  FW  |  foreign word\n",
            "is  |  AUX  |  auxiliary  |  VBZ  |  verb, 3rd person singular present\n",
            "the  |  DET  |  determiner  |  DT  |  determiner\n",
            "most  |  ADV  |  adverb  |  RBS  |  adverb, superlative\n",
            "malleable  |  ADJ  |  adjective  |  JJ  |  adjective (English), other noun-modifier (Chinese)\n",
            "resource  |  NOUN  |  noun  |  NN  |  noun, singular or mass\n",
            "at  |  ADP  |  adposition  |  IN  |  conjunction, subordinating or preposition\n",
            "the  |  DET  |  determiner  |  DT  |  determiner\n",
            "world  |  NOUN  |  noun  |  NN  |  noun, singular or mass\n",
            "’s  |  PART  |  particle  |  POS  |  possessive ending\n",
            "disposal  |  NOUN  |  noun  |  NN  |  noun, singular or mass\n",
            "to  |  PART  |  particle  |  TO  |  infinitival \"to\"\n",
            "overcome  |  VERB  |  verb  |  VB  |  verb, base form\n",
            "constraints  |  NOUN  |  noun  |  NNS  |  noun, plural\n",
            "and  |  CCONJ  |  coordinating conjunction  |  CC  |  conjunction, coordinating\n",
            "reimagine  |  VERB  |  verb  |  VB  |  verb, base form\n",
            "everyday  |  ADJ  |  adjective  |  JJ  |  adjective (English), other noun-modifier (Chinese)\n",
            "work  |  NOUN  |  noun  |  NN  |  noun, singular or mass\n",
            "and  |  CCONJ  |  coordinating conjunction  |  CC  |  conjunction, coordinating\n",
            "life  |  NOUN  |  noun  |  NN  |  noun, singular or mass\n",
            ",  |  PUNCT  |  punctuation  |  ,  |  punctuation mark, comma\n",
            "”  |  PUNCT  |  punctuation  |  ''  |  closing quotation mark\n",
            "said  |  VERB  |  verb  |  VBD  |  verb, past tense\n",
            "Satya  |  PROPN  |  proper noun  |  NNP  |  noun, proper singular\n",
            "Nadella  |  PROPN  |  proper noun  |  NNP  |  noun, proper singular\n",
            ",  |  PUNCT  |  punctuation  |  ,  |  punctuation mark, comma\n",
            "chairman  |  NOUN  |  noun  |  NN  |  noun, singular or mass\n",
            "and  |  CCONJ  |  coordinating conjunction  |  CC  |  conjunction, coordinating\n",
            "chief  |  ADJ  |  adjective  |  JJ  |  adjective (English), other noun-modifier (Chinese)\n",
            "executive  |  ADJ  |  adjective  |  JJ  |  adjective (English), other noun-modifier (Chinese)\n",
            "officer  |  NOUN  |  noun  |  NN  |  noun, singular or mass\n",
            "of  |  ADP  |  adposition  |  IN  |  conjunction, subordinating or preposition\n",
            "Microsoft  |  PROPN  |  proper noun  |  NNP  |  noun, proper singular\n",
            ".  |  PUNCT  |  punctuation  |  .  |  punctuation mark, sentence closer\n",
            "“  |  PUNCT  |  punctuation  |  ``  |  opening quotation mark\n",
            "As  |  ADV  |  adverb  |  RB  |  adverb\n",
            "tech  |  NOUN  |  noun  |  NN  |  noun, singular or mass\n",
            "as  |  ADP  |  adposition  |  IN  |  conjunction, subordinating or preposition\n",
            "a  |  DET  |  determiner  |  DT  |  determiner\n",
            "percentage  |  NOUN  |  noun  |  NN  |  noun, singular or mass\n",
            "of  |  ADP  |  adposition  |  IN  |  conjunction, subordinating or preposition\n",
            "global  |  ADJ  |  adjective  |  JJ  |  adjective (English), other noun-modifier (Chinese)\n",
            "GDP  |  PROPN  |  proper noun  |  NNP  |  noun, proper singular\n",
            "continues  |  VERB  |  verb  |  VBZ  |  verb, 3rd person singular present\n",
            "to  |  PART  |  particle  |  TO  |  infinitival \"to\"\n",
            "increase  |  VERB  |  verb  |  VB  |  verb, base form\n",
            ",  |  PUNCT  |  punctuation  |  ,  |  punctuation mark, comma\n",
            "we  |  PRON  |  pronoun  |  PRP  |  pronoun, personal\n",
            "are  |  AUX  |  auxiliary  |  VBP  |  verb, non-3rd person singular present\n",
            "innovating  |  VERB  |  verb  |  VBG  |  verb, gerund or present participle\n",
            "and  |  CCONJ  |  coordinating conjunction  |  CC  |  conjunction, coordinating\n",
            "investing  |  VERB  |  verb  |  VBG  |  verb, gerund or present participle\n",
            "across  |  ADP  |  adposition  |  IN  |  conjunction, subordinating or preposition\n",
            "diverse  |  ADJ  |  adjective  |  JJ  |  adjective (English), other noun-modifier (Chinese)\n",
            "and  |  CCONJ  |  coordinating conjunction  |  CC  |  conjunction, coordinating\n",
            "growing  |  VERB  |  verb  |  VBG  |  verb, gerund or present participle\n",
            "markets  |  NOUN  |  noun  |  NNS  |  noun, plural\n",
            ",  |  PUNCT  |  punctuation  |  ,  |  punctuation mark, comma\n",
            "with  |  ADP  |  adposition  |  IN  |  conjunction, subordinating or preposition\n",
            "a  |  DET  |  determiner  |  DT  |  determiner\n",
            "common  |  ADJ  |  adjective  |  JJ  |  adjective (English), other noun-modifier (Chinese)\n",
            "underlying  |  VERB  |  verb  |  VBG  |  verb, gerund or present participle\n",
            "technology  |  NOUN  |  noun  |  NN  |  noun, singular or mass\n",
            "stack  |  NOUN  |  noun  |  NN  |  noun, singular or mass\n",
            "and  |  CCONJ  |  coordinating conjunction  |  CC  |  conjunction, coordinating\n",
            "an  |  DET  |  determiner  |  DT  |  determiner\n",
            "operating  |  NOUN  |  noun  |  NN  |  noun, singular or mass\n",
            "model  |  NOUN  |  noun  |  NN  |  noun, singular or mass\n",
            "that  |  PRON  |  pronoun  |  WDT  |  wh-determiner\n",
            "reinforces  |  VERB  |  verb  |  VBZ  |  verb, 3rd person singular present\n",
            "a  |  DET  |  determiner  |  DT  |  determiner\n",
            "common  |  ADJ  |  adjective  |  JJ  |  adjective (English), other noun-modifier (Chinese)\n",
            "strategy  |  NOUN  |  noun  |  NN  |  noun, singular or mass\n",
            ",  |  PUNCT  |  punctuation  |  ,  |  punctuation mark, comma\n",
            "culture  |  NOUN  |  noun  |  NN  |  noun, singular or mass\n",
            ",  |  PUNCT  |  punctuation  |  ,  |  punctuation mark, comma\n",
            "and  |  CCONJ  |  coordinating conjunction  |  CC  |  conjunction, coordinating\n",
            "sense  |  NOUN  |  noun  |  NN  |  noun, singular or mass\n",
            "of  |  ADP  |  adposition  |  IN  |  conjunction, subordinating or preposition\n",
            "purpose  |  NOUN  |  noun  |  NN  |  noun, singular or mass\n",
            ".  |  PUNCT  |  punctuation  |  .  |  punctuation mark, sentence closer\n",
            "”  |  PUNCT  |  punctuation  |  ''  |  closing quotation mark\n",
            "\n",
            "  |  SPACE  |  space  |  _SP  |  whitespace\n",
            "“  |  PUNCT  |  punctuation  |  ``  |  opening quotation mark\n",
            "Solid  |  ADJ  |  adjective  |  JJ  |  adjective (English), other noun-modifier (Chinese)\n",
            "commercial  |  ADJ  |  adjective  |  JJ  |  adjective (English), other noun-modifier (Chinese)\n",
            "execution  |  NOUN  |  noun  |  NN  |  noun, singular or mass\n",
            ",  |  PUNCT  |  punctuation  |  ,  |  punctuation mark, comma\n",
            "represented  |  VERB  |  verb  |  VBN  |  verb, past participle\n",
            "by  |  ADP  |  adposition  |  IN  |  conjunction, subordinating or preposition\n",
            "strong  |  ADJ  |  adjective  |  JJ  |  adjective (English), other noun-modifier (Chinese)\n",
            "bookings  |  NOUN  |  noun  |  NNS  |  noun, plural\n",
            "growth  |  NOUN  |  noun  |  NN  |  noun, singular or mass\n",
            "driven  |  VERB  |  verb  |  VBN  |  verb, past participle\n",
            "by  |  ADP  |  adposition  |  IN  |  conjunction, subordinating or preposition\n",
            "long  |  ADJ  |  adjective  |  JJ  |  adjective (English), other noun-modifier (Chinese)\n",
            "-  |  PUNCT  |  punctuation  |  HYPH  |  punctuation mark, hyphen\n",
            "term  |  NOUN  |  noun  |  NN  |  noun, singular or mass\n",
            "Azure  |  ADJ  |  adjective  |  JJ  |  adjective (English), other noun-modifier (Chinese)\n",
            "commitments  |  NOUN  |  noun  |  NNS  |  noun, plural\n",
            ",  |  PUNCT  |  punctuation  |  ,  |  punctuation mark, comma\n",
            "increased  |  VERB  |  verb  |  VBD  |  verb, past tense\n",
            "Microsoft  |  PROPN  |  proper noun  |  NNP  |  noun, proper singular\n",
            "Cloud  |  PROPN  |  proper noun  |  NNP  |  noun, proper singular\n",
            "revenue  |  NOUN  |  noun  |  NN  |  noun, singular or mass\n",
            "to  |  ADP  |  adposition  |  IN  |  conjunction, subordinating or preposition\n",
            "$  |  SYM  |  symbol  |  $  |  symbol, currency\n",
            "22.1  |  NUM  |  numeral  |  CD  |  cardinal number\n",
            "billion  |  NUM  |  numeral  |  CD  |  cardinal number\n",
            ",  |  PUNCT  |  punctuation  |  ,  |  punctuation mark, comma\n",
            "up  |  ADV  |  adverb  |  RB  |  adverb\n",
            "32  |  NUM  |  numeral  |  CD  |  cardinal number\n",
            "%  |  NOUN  |  noun  |  NN  |  noun, singular or mass\n",
            "year  |  NOUN  |  noun  |  NN  |  noun, singular or mass\n",
            "over  |  ADP  |  adposition  |  IN  |  conjunction, subordinating or preposition\n",
            "year  |  NOUN  |  noun  |  NN  |  noun, singular or mass\n",
            "”  |  PUNCT  |  punctuation  |  ''  |  closing quotation mark\n",
            "said  |  VERB  |  verb  |  VBD  |  verb, past tense\n",
            "Amy  |  PROPN  |  proper noun  |  NNP  |  noun, proper singular\n",
            "Hood  |  PROPN  |  proper noun  |  NNP  |  noun, proper singular\n",
            ",  |  PUNCT  |  punctuation  |  ,  |  punctuation mark, comma\n",
            "executive  |  ADJ  |  adjective  |  JJ  |  adjective (English), other noun-modifier (Chinese)\n",
            "vice  |  NOUN  |  noun  |  NN  |  noun, singular or mass\n",
            "president  |  NOUN  |  noun  |  NN  |  noun, singular or mass\n",
            "and  |  CCONJ  |  coordinating conjunction  |  CC  |  conjunction, coordinating\n",
            "chief  |  ADJ  |  adjective  |  JJ  |  adjective (English), other noun-modifier (Chinese)\n",
            "financial  |  ADJ  |  adjective  |  JJ  |  adjective (English), other noun-modifier (Chinese)\n",
            "officer  |  NOUN  |  noun  |  NN  |  noun, singular or mass\n",
            "of  |  ADP  |  adposition  |  IN  |  conjunction, subordinating or preposition\n",
            "Microsoft  |  PROPN  |  proper noun  |  NNP  |  noun, proper singular\n",
            ".  |  PUNCT  |  punctuation  |  .  |  punctuation mark, sentence closer\n"
          ]
        }
      ]
    },
    {
      "cell_type": "code",
      "source": [
        "earnings_text=\"\"\"Microsoft Corp. today announced the following results for the quarter ended December 31, 2021, as compared to the corresponding period of last fiscal year:\n",
        "\n",
        "·         Revenue was $51.7 billion and increased 20%\n",
        "·         Operating income was $22.2 billion and increased 24%\n",
        "·         Net income was $18.8 billion and increased 21%\n",
        "·         Diluted earnings per share was $2.48 and increased 22%\n",
        "“Digital technology is the most malleable resource at the world’s disposal to overcome constraints and reimagine everyday work and life,” said Satya Nadella, chairman and chief executive officer of Microsoft. “As tech as a percentage of global GDP continues to increase, we are innovating and investing across diverse and growing markets, with a common underlying technology stack and an operating model that reinforces a common strategy, culture, and sense of purpose.”\n",
        "“Solid commercial execution, represented by strong bookings growth driven by long-term Azure commitments, increased Microsoft Cloud revenue to $22.1 billion, up 32% year over year” said Amy Hood, executive vice president and chief financial officer of Microsoft.\"\"\"\n",
        "\n",
        "doc = nlp(earnings_text)\n",
        "\n",
        "filtered_tokens = []\n",
        "\n",
        "for token in doc:\n",
        "    if token.pos_ not in [\"SPACE\", \"PUNCT\", \"X\"]:\n",
        "        filtered_tokens.append(token)"
      ],
      "metadata": {
        "id": "oC23OCyRNpWW"
      },
      "execution_count": 8,
      "outputs": []
    },
    {
      "cell_type": "code",
      "source": [
        "filtered_tokens[:10]\n"
      ],
      "metadata": {
        "colab": {
          "base_uri": "https://localhost:8080/"
        },
        "id": "a84vqUA0NuEi",
        "outputId": "dcc9ccab-a95c-4a61-ce8c-12fbb01061b3"
      },
      "execution_count": 9,
      "outputs": [
        {
          "output_type": "execute_result",
          "data": {
            "text/plain": [
              "[Microsoft,\n",
              " Corp.,\n",
              " today,\n",
              " announced,\n",
              " the,\n",
              " following,\n",
              " results,\n",
              " for,\n",
              " the,\n",
              " quarter]"
            ]
          },
          "metadata": {},
          "execution_count": 9
        }
      ]
    },
    {
      "cell_type": "code",
      "source": [
        "count = doc.count_by(spacy.attrs.POS)\n",
        "count"
      ],
      "metadata": {
        "colab": {
          "base_uri": "https://localhost:8080/"
        },
        "id": "SUK9OBd7N2cU",
        "outputId": "bfbf9085-3545-4970-a087-86f565641339"
      },
      "execution_count": 10,
      "outputs": [
        {
          "output_type": "execute_result",
          "data": {
            "text/plain": [
              "{96: 13,\n",
              " 92: 46,\n",
              " 100: 24,\n",
              " 90: 9,\n",
              " 85: 16,\n",
              " 93: 16,\n",
              " 97: 27,\n",
              " 98: 1,\n",
              " 84: 20,\n",
              " 103: 10,\n",
              " 87: 6,\n",
              " 99: 5,\n",
              " 89: 12,\n",
              " 86: 3,\n",
              " 94: 3,\n",
              " 95: 2}"
            ]
          },
          "metadata": {},
          "execution_count": 10
        }
      ]
    },
    {
      "cell_type": "code",
      "source": [
        "doc.vocab[96].text\n"
      ],
      "metadata": {
        "colab": {
          "base_uri": "https://localhost:8080/",
          "height": 36
        },
        "id": "qEykgDe9N76J",
        "outputId": "1da37c3c-cec7-481f-aff4-0064853a41bb"
      },
      "execution_count": 11,
      "outputs": [
        {
          "output_type": "execute_result",
          "data": {
            "text/plain": [
              "'PROPN'"
            ],
            "application/vnd.google.colaboratory.intrinsic+json": {
              "type": "string"
            }
          },
          "metadata": {},
          "execution_count": 11
        }
      ]
    },
    {
      "cell_type": "code",
      "source": [
        "count.items()\n"
      ],
      "metadata": {
        "colab": {
          "base_uri": "https://localhost:8080/"
        },
        "id": "oua1rdDEOHDe",
        "outputId": "f64ea153-b7b3-449e-bf25-6d62d362e191"
      },
      "execution_count": 12,
      "outputs": [
        {
          "output_type": "execute_result",
          "data": {
            "text/plain": [
              "dict_items([(96, 13), (92, 46), (100, 24), (90, 9), (85, 16), (93, 16), (97, 27), (98, 1), (84, 20), (103, 10), (87, 6), (99, 5), (89, 12), (86, 3), (94, 3), (95, 2)])"
            ]
          },
          "metadata": {},
          "execution_count": 12
        }
      ]
    },
    {
      "cell_type": "code",
      "source": [
        "for k,v in count.items():\n",
        "    print(doc.vocab[k].text, \"|\",v)"
      ],
      "metadata": {
        "colab": {
          "base_uri": "https://localhost:8080/"
        },
        "id": "CASc-kdMOL9v",
        "outputId": "3a2f5da0-4871-4683-8739-08de1bf17517"
      },
      "execution_count": 13,
      "outputs": [
        {
          "output_type": "stream",
          "name": "stdout",
          "text": [
            "PROPN | 13\n",
            "NOUN | 46\n",
            "VERB | 24\n",
            "DET | 9\n",
            "ADP | 16\n",
            "NUM | 16\n",
            "PUNCT | 27\n",
            "SCONJ | 1\n",
            "ADJ | 20\n",
            "SPACE | 10\n",
            "AUX | 6\n",
            "SYM | 5\n",
            "CCONJ | 12\n",
            "ADV | 3\n",
            "PART | 3\n",
            "PRON | 2\n"
          ]
        }
      ]
    },
    {
      "cell_type": "code",
      "source": [
        "import nltk\n",
        "\n",
        "# Download the 'averaged_perceptron_tagger_eng' resource\n",
        "nltk.download('averaged_perceptron_tagger_eng')\n",
        "\n",
        "text = \"The quick brown fox jumps over the lazy dog.\"\n",
        "\n",
        "# Tokenize the text into individual words\n",
        "words = nltk.word_tokenize(text)\n",
        "\n",
        "# Perform POS tagging on the tokenized words\n",
        "pos_tags = nltk.pos_tag(words)\n",
        "\n",
        "# Print the POS tags for each word\n",
        "for word, tag in pos_tags:\n",
        "    print(word, tag)"
      ],
      "metadata": {
        "colab": {
          "base_uri": "https://localhost:8080/"
        },
        "id": "NSfX5dvGOQgU",
        "outputId": "12df3287-6a82-4e35-d73c-9d07a71c3796"
      },
      "execution_count": 16,
      "outputs": [
        {
          "output_type": "stream",
          "name": "stderr",
          "text": [
            "[nltk_data] Downloading package averaged_perceptron_tagger_eng to\n",
            "[nltk_data]     /root/nltk_data...\n"
          ]
        },
        {
          "output_type": "stream",
          "name": "stdout",
          "text": [
            "The DT\n",
            "quick JJ\n",
            "brown NN\n",
            "fox NN\n",
            "jumps VBZ\n",
            "over IN\n",
            "the DT\n",
            "lazy JJ\n",
            "dog NN\n",
            ". .\n"
          ]
        },
        {
          "output_type": "stream",
          "name": "stderr",
          "text": [
            "[nltk_data]   Unzipping taggers/averaged_perceptron_tagger_eng.zip.\n"
          ]
        }
      ]
    }
  ]
}
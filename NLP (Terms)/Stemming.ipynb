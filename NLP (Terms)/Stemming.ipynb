{
  "nbformat": 4,
  "nbformat_minor": 0,
  "metadata": {
    "colab": {
      "provenance": []
    },
    "kernelspec": {
      "name": "python3",
      "display_name": "Python 3"
    },
    "language_info": {
      "name": "python"
    }
  },
  "cells": [
    {
      "cell_type": "markdown",
      "source": [
        "## **Stemming**\n",
        "Stemming is a natural language processing (NLP) technique used to reduce words to their root or base form, which is called the \"stem.\" Stemming is commonly used as a pre-processing step in text mining and information retrieval tasks, such as document classification, clustering, and search engines.\n",
        "\n",
        "The stem is the part of the word that remains after removing any prefixes or suffixes. For example, the word \"running\" can be reduced to its stem \"run\" by removing the suffix \"-ing\". Similarly, the word \"cats\" can be reduced to its stem \"cat\" by removing the suffix \"-s\".\n",
        "\n",
        "Stemming algorithms use a set of rules or algorithms to perform this process automatically, based on linguistic principles and heuristics. There are several popular stemming algorithms, such as Porter Stemming Algorithm, Snowball Stemming Algorithm, and Lancaster Stemming Algorithm.\n",
        "\n",
        "The primary goal of stemming is to reduce the number of unique words in a corpus, while still preserving the core meaning of the text. This can improve the efficiency and accuracy of many NLP tasks, by reducing the number of distinct tokens that must be processed or analyzed."
      ],
      "metadata": {
        "id": "q3qJe3JCBc_9"
      }
    },
    {
      "cell_type": "code",
      "source": [
        "import nltk\n",
        "from nltk.stem import PorterStemmer\n",
        "\n",
        "# Create a stemmer object\n",
        "stemmer = PorterStemmer()\n",
        "\n",
        "# Stem some example words\n",
        "words = [\"walking\", \"jumps\",\"travels\", \"jumped\", \"jumping\",\"eating\",\"eats\"]\n",
        "for word in words:\n",
        "    stemmed_word = stemmer.stem(word)\n",
        "    print(f\"{word} -> {stemmed_word}\")"
      ],
      "metadata": {
        "colab": {
          "base_uri": "https://localhost:8080/"
        },
        "id": "aR2Ewi0NBmtN",
        "outputId": "5ede4d10-28e2-4e8f-d438-60b2270bc4d4"
      },
      "execution_count": 3,
      "outputs": [
        {
          "output_type": "stream",
          "name": "stdout",
          "text": [
            "walking -> walk\n",
            "jumps -> jump\n",
            "travels -> travel\n",
            "jumped -> jump\n",
            "jumping -> jump\n",
            "eating -> eat\n",
            "eats -> eat\n"
          ]
        }
      ]
    }
  ]
}